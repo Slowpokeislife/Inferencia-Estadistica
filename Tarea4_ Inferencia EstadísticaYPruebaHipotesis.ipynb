{
 "cells": [
  {
   "cell_type": "markdown",
   "metadata": {
    "id": "LQ1H9DG5gv-j"
   },
   "source": [
    "# Problema 1:\n",
    "\n",
    "Los siguientes datos"
   ]
  },
  {
   "cell_type": "code",
   "execution_count": 10,
   "metadata": {
    "executionInfo": {
     "elapsed": 195,
     "status": "ok",
     "timestamp": 1678301171362,
     "user": {
      "displayName": "Jorge Velazquez-Castro",
      "userId": "01681773826982879139"
     },
     "user_tz": 360
    },
    "id": "Ky3t7QKqhTT0"
   },
   "outputs": [],
   "source": [
    "x = np.array([ 3.8058516 ,  4.19437519,  1.37709166,  0.77009889,  5.20968912,\n",
    "        0.65358179,  3.9701773 ,  2.07495512,  3.02571317,  3.1321825 ,\n",
    "        3.10005197,  4.94755324,  2.26160675,  0.59817735,  1.19183984,\n",
    "        1.37467926, -0.61701765,  5.01024433,  3.13300185,  5.2957513 ,\n",
    "        5.49070323, -1.13532482, -0.34934039,  5.72120588,  1.23276086,\n",
    "        4.33202401,  4.00250539, -0.40665993,  1.05709082,  3.68821387,\n",
    "        1.12295318,  2.10739471,  0.53197551, -0.27389039,  1.48139076,\n",
    "        0.70014346,  2.31649553,  2.44322569,  3.86141784,  2.04558533,\n",
    "        2.98230541,  3.69456416,  2.35192256,  0.11488102,  1.24948211,\n",
    "        2.34006925,  1.45962495, -0.09042347, -0.05130358,  1.15963357,\n",
    "        0.56871108,  2.70715761,  2.47673624,  1.70400014,  1.60709535,\n",
    "       -0.40534576,  3.07910114,  0.80967033,  5.04007949,  0.11755631,\n",
    "        1.427098  , -0.07170736,  5.11381387,  3.54324208,  4.39654794,\n",
    "        0.10687046,  2.89288521,  4.23476606,  1.54499074,  2.68598353,\n",
    "       -1.02087514,  1.9960533 ,  5.24364406,  3.2185187 , -0.38242978,\n",
    "        3.49462381,  1.06077727, -0.02623431,  3.92295454,  1.48746264,\n",
    "        2.74412523, -0.29060423,  3.915251  ,  3.13072888,  3.78471126,\n",
    "       -0.26904523,  0.66725871,  2.75931047,  2.09460576,  1.15288733,\n",
    "        3.08004069,  2.51581013,  1.88470954,  3.18040196,  0.85962888,\n",
    "       -0.2126045 ,  3.2505909 ,  2.7800464 ,  1.41144019,  2.71715232])\n"
   ]
  },
  {
   "cell_type": "markdown",
   "metadata": {
    "id": "oWcdfjuShXia"
   },
   "source": [
    "es una muestra de una distribución coseno:\n",
    "$$f(x)=C\\frac{1}{2\\pi}(1+\\cos(x/a-b))$$\n",
    "para $$-\\pi < x/a-b <\\pi$$ y donde C es una constante de normalización.\n",
    "\n",
    "\"a\" se conoce como la escala y \"b\" como la localización.\n",
    "\n",
    "Estima los parámetros \"a\" y \"b\" a partir de los datos y da un intervalo de confianza para ellos del 95%."
   ]
  },
  {
   "cell_type": "code",
   "execution_count": 52,
   "metadata": {},
   "outputs": [],
   "source": [
    "import sympy\n",
    "import numpy as np\n",
    "\n",
    "data = np.array([ 3.8058516 ,  4.19437519,  1.37709166,  0.77009889,  5.20968912,\n",
    "        0.65358179,  3.9701773 ,  2.07495512,  3.02571317,  3.1321825 ,\n",
    "        3.10005197,  4.94755324,  2.26160675,  0.59817735,  1.19183984,\n",
    "        1.37467926, -0.61701765,  5.01024433,  3.13300185,  5.2957513 ,\n",
    "        5.49070323, -1.13532482, -0.34934039,  5.72120588,  1.23276086,\n",
    "        4.33202401,  4.00250539, -0.40665993,  1.05709082,  3.68821387,\n",
    "        1.12295318,  2.10739471,  0.53197551, -0.27389039,  1.48139076,\n",
    "        0.70014346,  2.31649553,  2.44322569,  3.86141784,  2.04558533,\n",
    "        2.98230541,  3.69456416,  2.35192256,  0.11488102,  1.24948211,\n",
    "        2.34006925,  1.45962495, -0.09042347, -0.05130358,  1.15963357,\n",
    "        0.56871108,  2.70715761,  2.47673624,  1.70400014,  1.60709535,\n",
    "       -0.40534576,  3.07910114,  0.80967033,  5.04007949,  0.11755631,\n",
    "        1.427098  , -0.07170736,  5.11381387,  3.54324208,  4.39654794,\n",
    "        0.10687046,  2.89288521,  4.23476606,  1.54499074,  2.68598353,\n",
    "       -1.02087514,  1.9960533 ,  5.24364406,  3.2185187 , -0.38242978,\n",
    "        3.49462381,  1.06077727, -0.02623431,  3.92295454,  1.48746264,\n",
    "        2.74412523, -0.29060423,  3.915251  ,  3.13072888,  3.78471126,\n",
    "       -0.26904523,  0.66725871,  2.75931047,  2.09460576,  1.15288733,\n",
    "        3.08004069,  2.51581013,  1.88470954,  3.18040196,  0.85962888,\n",
    "       -0.2126045 ,  3.2505909 ,  2.7800464 ,  1.41144019,  2.71715232])"
   ]
  },
  {
   "cell_type": "code",
   "execution_count": 53,
   "metadata": {},
   "outputs": [
    {
     "name": "stdout",
     "output_type": "stream",
     "text": [
      "Estimación de a: 0.7928690803719871\n",
      "Estimación de b: 1.1638940028614486\n"
     ]
    }
   ],
   "source": [
    "import numpy as np\n",
    "from scipy.optimize import minimize\n",
    "# Función de log-verosimilitud\n",
    "def log_likelihood(params):\n",
    "    a, b = params\n",
    "    # Evitar valores no definidos\n",
    "    if a <= 0:\n",
    "        return np.inf\n",
    "    # Calcular la densidad\n",
    "    pdf = (1 / (2 * np.pi)) * (1 + np.cos(data / a - b))\n",
    "    # Verosimilitud: Evitar log(0)\n",
    "    log_pdf = np.log(pdf + 1e-9)  # Se suma 1e-9 para evitar valores de log indefinidos\n",
    "    return -np.sum(log_pdf)  # Negativo porque scipy.minimize busca mínimos\n",
    "\n",
    "# Valores iniciales para a y b\n",
    "initial_guess = [1, 0]\n",
    "\n",
    "# Optimización\n",
    "result = minimize(log_likelihood, initial_guess, method='Nelder-Mead')\n",
    "\n",
    "# Resultados\n",
    "a_hat, b_hat = result.x\n",
    "print(\"Estimación de a:\", a_hat)\n",
    "print(\"Estimación de b:\", b_hat)"
   ]
  },
  {
   "cell_type": "code",
   "execution_count": 62,
   "metadata": {},
   "outputs": [
    {
     "name": "stdout",
     "output_type": "stream",
     "text": [
      "Estimación de a: 0.7928690803719871\n",
      "Estimación de b: 1.1638940028614486\n",
      "Intervalo de confianza de a (95%): (0.7402208545158847, 0.8455173062280895)\n",
      "Intervalo de confianza de b (95%): (0.886559802936494, 1.4412282027864034)\n"
     ]
    }
   ],
   "source": [
    "import numpy as np\n",
    "from scipy.optimize import minimize\n",
    "from scipy.stats import norm\n",
    "from scipy.optimize._numdiff import approx_derivative\n",
    "\n",
    "# Función de log-verosimilitud\n",
    "def log_likelihood(params):\n",
    "    a, b = params\n",
    "    if a <= 0:  # Para evitar log de valores no definidos\n",
    "        return np.inf\n",
    "    pdf = (1 / (2 * np.pi)) * (1 + np.cos(data / a - b))\n",
    "    log_pdf = np.log(pdf + 1e-9)\n",
    "    return -np.sum(log_pdf)  # Negativo porque buscamos maximizar\n",
    "\n",
    "# Valores iniciales para a y b\n",
    "initial_guess = [1, 0]\n",
    "\n",
    "# Optimización\n",
    "result = minimize(log_likelihood, initial_guess, method='Nelder-Mead')\n",
    "\n",
    "# Estimaciones óptimas\n",
    "a_hat, b_hat = result.x\n",
    "print(\"Estimación de a:\", a_hat)\n",
    "print(\"Estimación de b:\", b_hat)\n",
    "\n",
    "# Calcular el hessiano numérico\n",
    "def hessian(func, params):\n",
    "    return approx_derivative(\n",
    "        lambda p: approx_derivative(func, p),\n",
    "        params,\n",
    "        \n",
    "    )\n",
    "\n",
    "# Obtener el hessiano en el óptimo\n",
    "hess = hessian(log_likelihood, result.x)\n",
    "\n",
    "# Matriz de covarianza (inversa del hessiano)\n",
    "cov_matrix = np.linalg.inv(hess)\n",
    "\n",
    "# Desviaciones estándar\n",
    "std_errors = np.sqrt(np.diag(cov_matrix))\n",
    "\n",
    "# Intervalos de confianza del 95%\n",
    "z = norm.ppf(0.975)  # Valor z para el 95%\n",
    "ci_a = (a_hat - z * std_errors[0], a_hat + z * std_errors[0])\n",
    "ci_b = (b_hat - z * std_errors[1], b_hat + z * std_errors[1])\n",
    "\n",
    "print(f\"Intervalo de confianza de a (95%): {ci_a}\")\n",
    "print(f\"Intervalo de confianza de b (95%): {ci_b}\")"
   ]
  },
  {
   "cell_type": "markdown",
   "metadata": {
    "id": "8Xl12azVkKOF"
   },
   "source": [
    "# Problema 2:\n",
    "\n",
    "Con la misma secuencia de datos del problema anterior x. I**magína que no conoces la distribución de donde proviene la muestra**. Estima el primer momento de la distribución $\\mu=\\bar{x}$ (promedio) y enstima el intervalo de confianza del 95%. "
   ]
  },
  {
   "cell_type": "code",
   "execution_count": 67,
   "metadata": {},
   "outputs": [
    {
     "name": "stdout",
     "output_type": "stream",
     "text": [
      "Media muestral: 2.1342\n",
      "Intervalo de confianza del 95%: (1.7984, 2.4700)\n"
     ]
    }
   ],
   "source": [
    "import numpy as np\n",
    "from scipy.stats import t\n",
    "\n",
    "# Datos\n",
    "data = np.array([\n",
    "    3.8058516, 4.19437519, 1.37709166, 0.77009889, 5.20968912,\n",
    "    0.65358179, 3.9701773, 2.07495512, 3.02571317, 3.1321825,\n",
    "    3.10005197, 4.94755324, 2.26160675, 0.59817735, 1.19183984,\n",
    "    1.37467926, -0.61701765, 5.01024433, 3.13300185, 5.2957513,\n",
    "    5.49070323, -1.13532482, -0.34934039, 5.72120588, 1.23276086,\n",
    "    4.33202401, 4.00250539, -0.40665993, 1.05709082, 3.68821387,\n",
    "    1.12295318, 2.10739471, 0.53197551, -0.27389039, 1.48139076,\n",
    "    0.70014346, 2.31649553, 2.44322569, 3.86141784, 2.04558533,\n",
    "    2.98230541, 3.69456416, 2.35192256, 0.11488102, 1.24948211,\n",
    "    2.34006925, 1.45962495, -0.09042347, -0.05130358, 1.15963357,\n",
    "    0.56871108, 2.70715761, 2.47673624, 1.70400014, 1.60709535,\n",
    "    -0.40534576, 3.07910114, 0.80967033, 5.04007949, 0.11755631,\n",
    "    1.427098, -0.07170736, 5.11381387, 3.54324208, 4.39654794,\n",
    "    0.10687046, 2.89288521, 4.23476606, 1.54499074, 2.68598353,\n",
    "    -1.02087514, 1.9960533, 5.24364406, 3.2185187, -0.38242978,\n",
    "    3.49462381, 1.06077727, -0.02623431, 3.92295454, 1.48746264,\n",
    "    2.74412523, -0.29060423, 3.915251, 3.13072888, 3.78471126,\n",
    "    -0.26904523, 0.66725871, 2.75931047, 2.09460576, 1.15288733,\n",
    "    3.08004069, 2.51581013, 1.88470954, 3.18040196, 0.85962888,\n",
    "    -0.2126045, 3.2505909, 2.7800464, 1.41144019, 2.71715232\n",
    "])\n",
    "\n",
    "# Tamaño de la muestra\n",
    "N = len(data)\n",
    "\n",
    "#alpha\n",
    "alpha=0.05\n",
    "\n",
    "# Media muestral\n",
    "mean = np.mean(data)\n",
    "\n",
    "# Desviación estándar muestral\n",
    "std_dev = np.std(data, ddof=1)\n",
    "\n",
    "# Error estándar\n",
    "SE = std_dev / np.sqrt(N)\n",
    "\n",
    "# Valor crítico de t para un IC del 95% y N-1 grados de libertad\n",
    "t_critical = t.ppf(1-alpha/2, df=n-1)\n",
    "# Intervalo de confianza\n",
    "lower_bound = mean - t_critical * SE\n",
    "upper_bound = mean + t_critical * SE\n",
    "\n",
    "print(f\"Media muestral: {mean:.4f}\")\n",
    "print(f\"Intervalo de confianza del 95%: ({lower_bound:.4f}, {upper_bound:.4f})\")\n"
   ]
  },
  {
   "cell_type": "markdown",
   "metadata": {},
   "source": [
    "# Problema 3:\n",
    "Un fabricante farmacéutico compra materias primas de dos proveedores diferentes. El nivel medio de impurezas es aproximadamente el mismo para ambos proveedores, pero el fabricante está preocupado por la variabilidad en la cantidad de impurezas de entre un embarque y otro. Si el nivel de impurezas tiende a variar en forma excesiva de una fuente de abastecimiento, esto podría afectar la calidad del producto final. Para comparar la variación en el porcentaje de impurezas para los dos proveedores, el fabricante selecciona diez envíos de cada uno de ellos y mide el porcentaje de impurezas de cada envío. Las varianzas muestrales fueron s2 1 = .273 y s2 2 = .094 respectivamente. Forme un intervalo de confianza de 95% para la relación entre las varianzas poblacionales reales."
   ]
  },
  {
   "cell_type": "code",
   "execution_count": 42,
   "metadata": {},
   "outputs": [
    {
     "name": "stdout",
     "output_type": "stream",
     "text": [
      "Intervalo de confianza del 95% para la razón de varianzas poblacionales: (0.7214, 11.6925)\n"
     ]
    }
   ],
   "source": [
    "from scipy.stats import f\n",
    "\n",
    "# Datos\n",
    "s1_squared = 0.273\n",
    "s2_squared = 0.094\n",
    "n1 = n2 = 10\n",
    "\n",
    "# Grados de libertad\n",
    "df1 = n1 - 1\n",
    "df2 = n2 - 1\n",
    "\n",
    "# Razón de varianzas\n",
    "ratio_var = s1_squared / s2_squared\n",
    "\n",
    "# Valores críticos de F\n",
    "alpha = 0.05\n",
    "F_upper = f.ppf(1 - alpha / 2, df1, df2)\n",
    "F_lower = f.ppf (alpha / 2, df1, df2)\n",
    "\n",
    "# Intervalo de confianza\n",
    "IC_lower = ratio_var / F_upper\n",
    "IC_upper = ratio_var / F_lower\n",
    "\n",
    "print(f\"Intervalo de confianza del 95% para la razón de varianzas poblacionales: ({IC_lower:.4f}, {IC_upper:.4f})\")\n"
   ]
  },
  {
   "cell_type": "markdown",
   "metadata": {},
   "source": [
    "Notemos que los datos no son suficientes para afirmar con un 95% de confianza que las varianzas son distintas"
   ]
  },
  {
   "cell_type": "markdown",
   "metadata": {},
   "source": [
    "# Problema 4:\n",
    "Una encuesta a 415 ejecutivos corporativos, de gobierno y contadores de la Financial Accounting Foundation encontró que 278 consideraban el flujo de caja (lo contrario de ganancias por acción, etc.) como el indicador más importante de la salud financiera de una compañía. Suponga que estos 415 ejecutivos constituyen una muestra aleatoria de la población de todos los ejecutivos. Use los datos para hallar un intervalo de confianza de 95% para la fracción de todos los ejecutivos corporativos que consideran que el flujo de caja es la medida más importante de la salud financiera de una compañía."
   ]
  },
  {
   "cell_type": "code",
   "execution_count": 57,
   "metadata": {},
   "outputs": [
    {
     "name": "stdout",
     "output_type": "stream",
     "text": [
      "Proporción muestral: 0.6699\n",
      "Intervalo de confianza del 95%: (0.6246, 0.7151)\n"
     ]
    }
   ],
   "source": [
    "import math\n",
    "from scipy.stats import norm\n",
    "alpha=0.05\n",
    "\n",
    "n = 415\n",
    "x = 278\n",
    "\n",
    "Z = norm.ppf(1-alpha/2,0,1)  # Valor crítico para un nivel de confianza del 95%\n",
    "# Proporción muestral\n",
    "p_hat = x / n\n",
    "\n",
    "# Error estándar\n",
    "SE = math.sqrt(p_hat * (1 - p_hat) / n)\n",
    "\n",
    "# Intervalo de confianza\n",
    "L_inf = p_hat - Z * SE\n",
    "L_sup = p_hat + Z * SE\n",
    "\n",
    "print(f\"Proporción muestral: {p_hat:.4f}\")\n",
    "print(f\"Intervalo de confianza del 95%: ({L_inf:.4f}, {L_sup:.4f})\")\n"
   ]
  },
  {
   "cell_type": "markdown",
   "metadata": {},
   "source": [
    "# Problema 5:\n",
    "Se sabe que la probabilidad p de obtener una cara al lanzar al aire una moneda desbalanceada es 1/ 4 o 3/ 4. La moneda es lanzada dos veces al aire y se observa un valor para Y, el número de caras. Para cada valor posible de Y, ¿cuál de los dos valores para p (1/ 4 o 3/ 4) maximiza la probabilidad de que Y = y? Dependiendo del valor de y observado realmente, En otras palabras ¿cuál es el MLE de p?"
   ]
  },
  {
   "cell_type": "code",
   "execution_count": 6,
   "metadata": {},
   "outputs": [
    {
     "name": "stdout",
     "output_type": "stream",
     "text": [
      "Y\tP(Y|p=1/4)\tP(Y|p=3/4)\tMLE(p)\n",
      "0\t0.5625\t\t0.0625\t\t0.25\n",
      "1\t0.3750\t\t0.3750\t\t0.25 o 0.75\n",
      "2\t0.0625\t\t0.5625\t\t0.75\n"
     ]
    }
   ],
   "source": [
    "from math import comb\n",
    "\n",
    "# Probabilidades posibles para p\n",
    "p1 = 1/4\n",
    "p2 = 3/4\n",
    "\n",
    "# Valores de Y\n",
    "n = 2\n",
    "results = []\n",
    "\n",
    "for y in range(n+1):\n",
    "    # Probabilidades para p1 y p2\n",
    "    P_y_p1 = comb(n, y) * (p1**y) * ((1-p1)**(n-y))\n",
    "    P_y_p2 = comb(n, y) * (p2**y) * ((1-p2)**(n-y))\n",
    "    \n",
    "    # Determinar cuál p maximiza la probabilidad\n",
    "    mle_p = p1 if P_y_p1 > P_y_p2 else p2\n",
    "    results.append((y, P_y_p1, P_y_p2, mle_p))\n",
    "\n",
    "# Mostrar resultados\n",
    "print(\"Y\\tP(Y|p=1/4)\\tP(Y|p=3/4)\\tMLE(p)\")\n",
    "for y, P_y_p1, P_y_p2, mle_p in results:\n",
    "    if P_y_p1 == P_y_p2:\n",
    "        print(f\"{y}\\t{P_y_p1:.4f}\\t\\t{P_y_p2:.4f}\\t\\t0.25 o 0.75\")    \n",
    "    else:\n",
    "        print(f\"{y}\\t{P_y_p1:.4f}\\t\\t{P_y_p2:.4f}\\t\\t{mle_p:.2f}\")\n"
   ]
  },
  {
   "cell_type": "markdown",
   "metadata": {},
   "source": [
    "# Problema 6:\n",
    "Un examen de lectura se aplica a alumnos de sexto año en tres grandes escuelas primarias. Se considera que las calificaciones del examen en cada escuela tienen distribuciones normales con medias desconocidas $\\mu_1, \\mu_2, \\mu_3$, respectivamente, y varianza común desconocida $\\sigma^2(\\sigma²_1 = \\sigma²_2 = \\sigma^2_3 = \\sigma^2)$. Usando los datos de la tabla siguiente en muestras aleatorias independientes de cada escuela, pruebe si existe evidencia de una diferencia entre m1 y m2. Use a = .05.\n",
    "\n",
    "Escuela I : $n_{1} = 10, \\sum x_{i}^{2} = 36950 , \\bar{x}= 60$\n",
    "Escuela II : $n_{2} = 10, \\sum y_{i}^{2} = 25850 , \\bar{y}= 50$\n",
    "Escuela III : $n_{3} = 10, \\sum w_{i}^{2} = 49900 , \\bar{x}= 70$\n"
   ]
  },
  {
   "cell_type": "code",
   "execution_count": 54,
   "metadata": {},
   "outputs": [
    {
     "name": "stdout",
     "output_type": "stream",
     "text": [
      "s1^2 = 105.5556, s2^2 = 94.4444, s3^2 = 100.0000\n",
      "S^2 (varianza común) = 10.0000\n",
      "t estadístico = 2.2361\n",
      "t crítico = 2.0518\n",
      "¿Rechazar H0? Como el estadistico 2.23606797749979 es mayor que 2.0518305164802833 Se rechaza H0 en favor de la alternativa\n"
     ]
    }
   ],
   "source": [
    "#H0 : M1 - M2 = D\n",
    "#H1 : M1 - M2 diferente de D\n",
    "#D=0\n",
    "D=0\n",
    "import math\n",
    "from scipy.stats import t\n",
    "\n",
    "# Datos proporcionados\n",
    "n1, n2, n3 = 10, 10, 10\n",
    "x1_mean, x2_mean, x3_mean = 60, 50, 70\n",
    "x1_sq_sum, x2_sq_sum, x3_sq_sum = 36950, 25850, 49900\n",
    "\n",
    "# Varianzas muestrales\n",
    "s1_sq = (x1_sq_sum - n1 * x1_mean**2) / (n1 - 1)\n",
    "s2_sq = (x2_sq_sum - n2 * x2_mean**2) / (n2 - 1)\n",
    "s3_sq = (x3_sq_sum - n3 * x3_mean**2) / (n3 - 1)\n",
    "\n",
    "# Varianza común\n",
    "S_sq = math.sqrt(((n1 - 1) * s1_sq + (n2 - 1) * s2_sq + (n3 - 1) * s3_sq) / (n1 + n2 + n3 - 3))\n",
    "\n",
    "# Estadístico t\n",
    "t_stat = (x1_mean - x2_mean-D) / (S_sq*math.sqrt(1/n1 + 1/n2))\n",
    "\n",
    "# Grados de libertad y valor crítico\n",
    "df = n1 + n2 + n3 - 3\n",
    "alpha=0.05\n",
    "\n",
    "t_crit = t.ppf(1 - alpha/2, df)  # Prueba bilateral\n",
    "\n",
    "# Resultado\n",
    "reject_null = abs(t_stat) > t_crit\n",
    "\n",
    "# Mostrar resultados\n",
    "print(f\"s1^2 = {s1_sq:.4f}, s2^2 = {s2_sq:.4f}, s3^2 = {s3_sq:.4f}\")\n",
    "print(f\"S^2 (varianza común) = {S_sq:.4f}\")\n",
    "print(f\"t estadístico = {t_stat:.4f}\")\n",
    "print(f\"t crítico = {t_crit:.4f}\")\n",
    "print(\"¿Rechazar H0?\", \"Como el estadistico\", t_stat ,\"es mayor que\",t_crit,\"Se rechaza H0 en favor de la alternativa\" if reject_null else \"No hay suficiente evidencia para rechazar H0\")\n"
   ]
  },
  {
   "cell_type": "markdown",
   "metadata": {},
   "source": [
    "# Problema 7:\n",
    "¿Qué eficiencia de combustión debe esperar el propietario de una casa de un horno de petróleo? La EPA indica que 80% o más es excelente, 75% a 79% es buena, 70% a 74% es regular y debajo de 70% es mala. Un contratista de sistemas de calefacción doméstica, que vende dos marcas de calentadores de petróleo (llamémosles A y B) decidió comparar sus eficiencias medias al analizar las eficiencias de 8 calentadores del tipo A y 6 del tipo B. Los porcentajes de eficiencia resultantes para los 14 calentadores se muestran en la tabla siguiente.\n",
    "\n",
    "Tipo A 72 78 73 69 75 74 69 75\n",
    "\n",
    "Tipo B 78 76 81 74 82 75\n",
    "\n",
    "a ¿Los datos proporcionan suficiente evidencia para indicar una diferencia en las eficiencias medias para las dos marcas de calentadores domésticos? Encuentre el valor p aproximado para la prueba e interprete su valor. \n",
    "\n",
    "b Determine un intervalo de confianza de 90% para (mA − mB) e interprete el resultado."
   ]
  },
  {
   "cell_type": "code",
   "execution_count": 105,
   "metadata": {},
   "outputs": [
    {
     "name": "stdout",
     "output_type": "stream",
     "text": [
      "Media Tipo A: 73.12, Varianza Tipo A: 9.55\n",
      "Media Tipo B: 77.67, Varianza Tipo B: 10.67\n",
      "t estadístico: -2.6570, p-valor: 0.0209\n",
      "Intervalo de confianza del 90% para (μA - μB): (-7.5881, -1.4952)\n"
     ]
    }
   ],
   "source": [
    "import numpy as np\n",
    "from scipy.stats import t\n",
    "\n",
    "# Datos\n",
    "tipo_A = np.array([72, 78, 73, 69, 75, 74, 69, 75])\n",
    "tipo_B = np.array([78, 76, 81, 74, 82, 75])\n",
    "\n",
    "# Parámetros muestrales\n",
    "n_A, n_B = len(tipo_A), len(tipo_B)\n",
    "xbar_A, xbar_B = np.mean(tipo_A), np.mean(tipo_B)\n",
    "s2_A, s2_B = np.var(tipo_A, ddof=1), np.var(tipo_B, ddof=1)\n",
    "\n",
    "# Varianza combinada\n",
    "S_p2 = np.sqrt(((n_A - 1) * s2_A + (n_B - 1) * s2_B) / (n_A + n_B - 2))\n",
    "\n",
    "# Estadístico t\n",
    "t_stat = (xbar_A - xbar_B) / (S_p2 *np.sqrt(1/n_A + 1/n_B))\n",
    "\n",
    "# Grados de libertad\n",
    "df = n_A + n_B - 2\n",
    "\n",
    "# Valor p\n",
    "p_value = 2 * (1 - t.cdf(abs(t_stat), df))\n",
    "\n",
    "# Intervalo de confianza del 90%\n",
    "alpha=0.1\n",
    "\n",
    "t_crit = t.ppf(1 - alpha/2, df)  # Nivel de confianza del 90%\n",
    "margin_error = t_crit * (S_p2 *np.sqrt(1/n_A + 1/n_B))\n",
    "ci_lower = (xbar_A - xbar_B) - margin_error\n",
    "ci_upper = (xbar_A - xbar_B) + margin_error\n",
    "\n",
    "# Resultados\n",
    "print(f\"Media Tipo A: {xbar_A:.2f}, Varianza Tipo A: {s2_A:.2f}\")\n",
    "print(f\"Media Tipo B: {xbar_B:.2f}, Varianza Tipo B: {s2_B:.2f}\")\n",
    "print(f\"t estadístico: {t_stat:.4f}, p-valor: {p_value:.4f}\")\n",
    "print(f\"Intervalo de confianza del 90% para (μA - μB): ({ci_lower:.4f}, {ci_upper:.4f})\")\n"
   ]
  },
  {
   "cell_type": "markdown",
   "metadata": {},
   "source": [
    "Como el p valor es menor que 0.05 rechazamos H0 indicando que existe una diferencia significativa entre las eficiencias medias de los dos tipos de calentadores\n"
   ]
  },
  {
   "cell_type": "markdown",
   "metadata": {},
   "source": [
    "# Problema 8: \n",
    "Los datos de la siguiente tabla muestran lecturas en pies-libras de la resistencia al impacto de dos clases de material de empaque, tipo A y tipo B. Determine si la información sugiere una diferencia en la resistencia media entre las dos clases de material. Realice la prueba con un nivel de significancia a = .10.\n",
    "\n",
    "A     &nbsp; B \\\n",
    "1.25 &nbsp; .89 \\\n",
    "1.16 &nbsp; 1.01 \\\n",
    "1.33 &nbsp; .97 \\\n",
    "1.15 &nbsp; .95 \\\n",
    "1.23 &nbsp; .94 \\\n",
    "1.20 &nbsp; 1.02 \\\n",
    "1.32 &nbsp; .98 \\\n",
    "1.28 &nbsp; 1.06 \\\n",
    "1.21 &nbsp; .98\n"
   ]
  },
  {
   "cell_type": "code",
   "execution_count": 106,
   "metadata": {},
   "outputs": [
    {
     "name": "stdout",
     "output_type": "stream",
     "text": [
      "t estadístico = 9.5641\n",
      "t crítico = 1.7459\n",
      "¿Rechazar H0? Como el estadistico 9.564131954889964 es mayor que 1.74588367627624 Se rechaza H0 en favor de la alternativa\n"
     ]
    }
   ],
   "source": [
    "import numpy as np\n",
    "from scipy.stats import t\n",
    "\n",
    "#H0 : M1 - M2= 0\n",
    "#H1 : M1- M2 distinta 0\n",
    "\n",
    "# Datos\n",
    "tipo_A = np.array([1.25,1.16,1.33,1.15,1.23,1.20,1.32,1.28,1.21])\n",
    "tipo_B = np.array([0.89,1.01,0.97,0.95,0.94,1.02,0.98,1.06,0.98])\n",
    "\n",
    "\n",
    "# Parámetros muestrales\n",
    "n_A, n_B = len(tipo_A), len(tipo_B)\n",
    "xbar_A, xbar_B = np.mean(tipo_A), np.mean(tipo_B)\n",
    "s2_A, s2_B = np.var(tipo_A, ddof=1), np.var(tipo_B, ddof=1)\n",
    "\n",
    "# Varianza combinada\n",
    "S_p2 = np.sqrt(((n_A - 1) * s2_A + (n_B - 1) * s2_B) / (n_A + n_B - 2))\n",
    "\n",
    "# Estadístico t\n",
    "t_stat = (xbar_A - xbar_B) / (S_p2 *np.sqrt(1/n_A + 1/n_B))\n",
    "\n",
    "# Grados de libertad\n",
    "df = n_A + n_B - 2\n",
    "# Resultado\n",
    "reject_null = abs(t_stat) > t_crit\n",
    "# Nivel de significancia\n",
    "alpha=0.1\n",
    "t_crit = t.ppf(1 - alpha/2, df)  # Nivel de confianza del 90%\n",
    "print(f\"t estadístico = {t_stat:.4f}\")\n",
    "print(f\"t crítico = {t_crit:.4f}\")\n",
    "print(\"¿Rechazar H0?\", \"Como el estadistico\", t_stat ,\"es mayor que\",t_crit,\"Se rechaza H0 en favor de la alternativa\" if reject_null else \"No hay suficiente evidencia para rechazar H0\")"
   ]
  },
  {
   "cell_type": "markdown",
   "metadata": {},
   "source": [
    "# Problema 9:\n",
    "Los datos de la siguiente tabla proporcionan las millas por galón recorridas por un automóvil de prueba cuando utiliza gasolinas de niveles variables de octanaje.\n",
    "\n",
    "Millas por galón (y) &nbsp; Octano (x) \\\n",
    "13.0 &nbsp;89 \\\n",
    "13.2 &nbsp;93 \\\n",
    "13.0 &nbsp;87 \\\n",
    " 13.6 &nbsp;90 \\\n",
    "13.3 &nbsp;89 \\\n",
    " 13.8 &nbsp;95  \\\n",
    " 14.1 &nbsp;100 \\\n",
    " 14.0 &nbsp;98\n",
    "\n",
    " a Calcule el valor de r. \n",
    " \n",
    " b ¿Los datos dan suficiente evidencia para indicar que el nivel de octanaje y las millas por galón son dependientes? Obtenga el nivel de significancia alcanzado, e indique su conclusión si desea realizar una prueba en el nivel de a = .05."
   ]
  },
  {
   "cell_type": "code",
   "execution_count": 107,
   "metadata": {},
   "outputs": [
    {
     "name": "stdout",
     "output_type": "stream",
     "text": [
      "Coeficiente de correlación (r): 0.8914\n",
      "Estadístico t: 4.8178\n",
      "t crítico = 2.4469\n",
      "Valor p: 0.0029\n",
      "¿Rechazar H0? Como el estadistico 4.817770069955905 es mayor que 2.4469118487916806 Se rechaza H0 en favor de la alternativa\n"
     ]
    }
   ],
   "source": [
    "import numpy as np\n",
    "from scipy.stats import t\n",
    "\n",
    "#H0: son independientes\n",
    "#H1 hay dependencia\n",
    "\n",
    "# Datos\n",
    "x = np.array([89, 93, 87, 90, 89, 95, 100, 98])  # Nivel de octano\n",
    "y = np.array([13.0, 13.2, 13.0, 13.6, 13.3, 13.8, 14.1, 14.0])  # Millas por galón\n",
    "\n",
    "# Medias\n",
    "x_mean = np.mean(x)\n",
    "y_mean = np.mean(y)\n",
    "\n",
    "# Cálculo del coeficiente de correlación r\n",
    "numerator = np.sum((x - x_mean) * (y - y_mean))\n",
    "denominator = np.sqrt(np.sum((x - x_mean)**2) * np.sum((y - y_mean)**2))\n",
    "r = numerator / denominator\n",
    "\n",
    "# Estadístico t\n",
    "n = len(x)\n",
    "t_stat = r * np.sqrt((n - 2) / (1 - r**2))\n",
    "\n",
    "# Grados de libertad\n",
    "df = n - 2\n",
    "\n",
    "# Valor p para una prueba bilateral\n",
    "p_value = 2 * (1 - t.cdf(abs(t_stat), df))\n",
    "\n",
    "#nivel de significancia \n",
    "alpha=0.05\n",
    "t_crit = t.ppf(1 - alpha/2, df)  # Nivel de confianza del 95%\n",
    "\n",
    "# Resultados\n",
    "print(f\"Coeficiente de correlación (r): {r:.4f}\")\n",
    "print(f\"Estadístico t: {t_stat:.4f}\")\n",
    "print(f\"t crítico = {t_crit:.4f}\")\n",
    "print(f\"Valor p: {p_value:.4f}\")\n",
    "print(\"¿Rechazar H0?\", \"Como el estadistico\", t_stat ,\"es mayor que\",t_crit,\"Se rechaza H0 en favor de la alternativa\" if reject_null else \"No hay suficiente evidencia para rechazar H0\")\n"
   ]
  },
  {
   "cell_type": "markdown",
   "metadata": {},
   "source": [
    "Hay suficiente evidencia para afirmar que el nivel de octanaje y las millas por galón son dependientes."
   ]
  },
  {
   "cell_type": "markdown",
   "metadata": {},
   "source": [
    "# Problema 10:\n",
    "Se realizó un experimento para determinar el efecto de presión y temperatura en el rendimiento de una sustancia química. Se emplearon dos niveles de presión (en libras por pulgada cuadrada, psi) y tres de temperatura:\n",
    "\n",
    "Presión: 50 , 80\n",
    "Temperatura (F) : 100, 200, 300\n",
    "\n",
    "Una prueba del experimento en cada combinación de temperatura-presión dio como resultado los datos que aparecen en la siguiente tabla.\n",
    "\n",
    "Rendimiento &nbsp; Presión &nbsp; Temperatura\\\n",
    "21 &nbsp;50&nbsp; 100 \\\n",
    "23 &nbsp;50 &nbsp;200 \\\n",
    "26 &nbsp;50 &nbsp;300 \\\n",
    "22 &nbsp;80 &nbsp;100 \\\n",
    "23 &nbsp;80 &nbsp;200 \\\n",
    "28 &nbsp;80&nbsp; 300\n",
    "\n",
    "a Ajuste el modelo $Y = \\beta_{0} +\\beta_1x_1 +\\beta_2x_2 +\\beta_3x_2^{2} + \\epsilon$, donde $x_1$ = presión y $x_2$ = temperatura. \n",
    "\n",
    "b Compruebe si $\\beta_3$ difiere considerablemente de cero, con $\\alpha$ = .05. \n",
    "\n",
    "c Pruebe la hipótesis de que la temperatura no afecta el rendimiento, con $\\alpha$ = .05."
   ]
  },
  {
   "cell_type": "code",
   "execution_count": 108,
   "metadata": {},
   "outputs": [
    {
     "name": "stdout",
     "output_type": "stream",
     "text": [
      "Coeficientes estimados (beta): [ 2.03333333e+01  3.33333333e-02 -2.25000000e-02  1.25000000e-04]\n"
     ]
    }
   ],
   "source": [
    "import numpy as np\n",
    "\n",
    "# Datos\n",
    "Y = np.array([21, 23, 26, 22, 23, 28])  # Rendimiento\n",
    "X = np.array([\n",
    "    [1, 50, 100, 100**2],\n",
    "    [1, 50, 200, 200**2],\n",
    "    [1, 50, 300, 300**2],\n",
    "    [1, 80, 100, 100**2],\n",
    "    [1, 80, 200, 200**2],\n",
    "    [1, 80, 300, 300**2],\n",
    "])\n",
    "\n",
    "# Estimación de beta\n",
    "X_transpose = X.T\n",
    "beta_hat = np.linalg.inv(X_transpose @ X) @ X_transpose @ Y\n",
    "\n",
    "print(f\"Coeficientes estimados (beta): {beta_hat}\")\n"
   ]
  },
  {
   "cell_type": "code",
   "execution_count": 113,
   "metadata": {},
   "outputs": [
    {
     "name": "stdout",
     "output_type": "stream",
     "text": [
      "t-stat: 2.0412\n",
      "t-crit: 4.3027\n",
      "p-value: 0.1780\n",
      "¿Rechazar H0? No hay suficiente evidencia para rechazar H0, por lo que no podemos afirmar que beta3 \n",
      "difiera considerablemente de 0\n"
     ]
    }
   ],
   "source": [
    "import numpy as np\n",
    "from scipy.stats import t\n",
    "\n",
    "# Datos\n",
    "Y = np.array([21, 23, 26, 22, 23, 28])  # Rendimiento\n",
    "X = np.array([\n",
    "    [1, 50, 100, 100**2],\n",
    "    [1, 50, 200, 200**2],\n",
    "    [1, 50, 300, 300**2],\n",
    "    [1, 80, 100, 100**2],\n",
    "    [1, 80, 200, 200**2],\n",
    "    [1, 80, 300, 300**2],\n",
    "])\n",
    "\n",
    "# Estimación de beta\n",
    "X_transpose = X.T\n",
    "beta_hat = np.linalg.inv(X_transpose @ X) @ X_transpose @ Y\n",
    "\n",
    "# Residuales y estimación de sigma^2\n",
    "Y_hat = X @ beta_hat\n",
    "residuals = Y - Y_hat\n",
    "sigma_squared = np.sum(residuals**2) / (len(Y) - X.shape[1])\n",
    "\n",
    "# Matriz de varianza de beta\n",
    "var_beta = sigma_squared * np.linalg.inv(X_transpose @ X)\n",
    "\n",
    "# Vector a para probar si beta3 son 0\n",
    "a = np.array([0, 0, 0, 1])\n",
    "\n",
    "# Cálculo del estadístico t\n",
    "numerador = a.T @ beta_hat\n",
    "denominador = np.sqrt(a.T @ var_beta @ a)\n",
    "t_stat = numerador / denominador\n",
    "\n",
    "# Grados de libertad y p-valor\n",
    "df = len(Y) - X.shape[1]\n",
    "alpha=0.05\n",
    "t_crit = t.ppf(1 - alpha/2, df)  # Nivel de confianza del 95%\n",
    "\n",
    "p_value = 2 * (1 - t.cdf(abs(t_stat), df=df))\n",
    "# Resultado\n",
    "\n",
    "print(f\"t-stat: {t_stat:.4f}\")\n",
    "print(f\"t-crit: {t_crit:.4f}\")\n",
    "print(f\"p-value: {p_value:.4f}\")\n",
    "print(\"¿Rechazar H0? \" \"No hay suficiente evidencia para rechazar H0, por lo que no podemos afirmar que beta3 \\ndifiera considerablemente de 0\")\n"
   ]
  },
  {
   "cell_type": "code",
   "execution_count": 163,
   "metadata": {},
   "outputs": [
    {
     "name": "stdout",
     "output_type": "stream",
     "text": [
      "Estadístico F: 32.3333\n",
      "p-valor: 0.0300\n",
      "Rechazamos H0: La temperatura afecta significativamente el rendimiento.\n"
     ]
    }
   ],
   "source": [
    "import numpy as np\n",
    "from scipy.stats import f\n",
    "\n",
    "# Datos del problema\n",
    "Y = np.array([21, 23, 26, 22, 23, 28])  # Rendimientos\n",
    "X_full = np.array([\n",
    "    [1, 50, 100, 100**2],  # Modelo completo\n",
    "    [1, 50, 200, 200**2],\n",
    "    [1, 50, 300, 300**2],\n",
    "    [1, 80, 100, 100**2],\n",
    "    [1, 80, 200, 200**2],\n",
    "    [1, 80, 300, 300**2],\n",
    "])\n",
    "\n",
    "# Modelo restringido (sin temperatura)\n",
    "X_restricted = np.array([\n",
    "    [1, 50],  # Solo intercepto y presión\n",
    "    [1, 50],\n",
    "    [1, 50],\n",
    "    [1, 80],\n",
    "    [1, 80],\n",
    "    [1, 80],\n",
    "])\n",
    "\n",
    "# Ajuste de ambos modelos\n",
    "beta_full = np.linalg.inv(X_full.T @ X_full) @ X_full.T @ Y\n",
    "beta_restricted = np.linalg.inv(X_restricted.T @ X_restricted) @ X_restricted.T @ Y\n",
    "\n",
    "# Predicciones\n",
    "Y_hat_full = X_full @ beta_full\n",
    "Y_hat_restricted = X_restricted @ beta_restricted\n",
    "\n",
    "# Sumas de cuadrados\n",
    "SSR_restricted = np.sum((Y - Y_hat_restricted)**2)  # Suma de cuadrados del modelo restringido\n",
    "SSR_full = np.sum((Y - Y_hat_full)**2)  # Suma de cuadrados del modelo completo\n",
    "\n",
    "# Grados de libertad\n",
    "n = len(Y)  # Número de observaciones\n",
    "p_full = X_full.shape[1]  # Número de parámetros en el modelo completo\n",
    "p_restricted = X_restricted.shape[1]  # Número de parámetros en el modelo restringido\n",
    "q = p_full - p_restricted  # Número de restricciones\n",
    "df_error = n - p_full  # Grados de libertad residuales del modelo completo\n",
    "\n",
    "# Estadístico F\n",
    "F_stat = ((SSR_restricted - SSR_full) / q) / (SSR_full / df_error)\n",
    "\n",
    "# p-valor\n",
    "p_value = 1 - f.cdf(F_stat, dfn=q, dfd=df_error)\n",
    "\n",
    "print(f\"Estadístico F: {F_stat:.4f}\")\n",
    "print(f\"p-valor: {p_value:.4f}\")\n",
    "\n",
    "# Decisión\n",
    "alpha = 0.05\n",
    "if p_value < alpha:\n",
    "    print(\"Rechazamos H0: La temperatura afecta significativamente el rendimiento.\")\n",
    "else:\n",
    "    print(\"No podemos rechazar H0: No hay evidencia suficiente para decir que la temperatura afecta el rendimiento.\")\n"
   ]
  },
  {
   "cell_type": "markdown",
   "metadata": {},
   "source": [
    "# Problema 11:\n",
    "Los datos de la siguiente tabla provienen de la comparación de los porcentajes de crecimiento para bacterias tipos A y B. El crecimiento Y registrado en cinco puntos igualmente espaciados (y codificados) de tiempo se muestra en la tabla.\n",
    "\n",
    "Tiempo codificado : -2, -1, 0 , 1, 2 \\\n",
    "Bacteria A : 8.0, 9.0, 9.1 , 10.2, 10.4\\\n",
    "Bacteria B : 10.0, 10.3, 12.2, 12.6, 13.9\n",
    "\n",
    "a Ajuste el modelo lineal $Y = \\beta_0 + \\beta_1 x_1 + \\beta_2 x_2 + \\beta_3 x_1 x_2 + \\epsilon$ a los n = 10 puntos. Sea $x_1$ = 1 si el punto se refiere a bacterias tipo B y sea $x_1$ = 0 si el punto se refiere al tipo A. Sea $x_2$ = tiempo codificado. \n",
    "\n",
    "b Grafique los puntos y las dos rectas de crecimiento. Observe que b3 es la diferencia entre las pendientes de las dos rectas y representa la interacción tiempo-bacteria. \n",
    "\n",
    "c Prediga el crecimiento del tipo A en el tiempo $x_2$ = 0 y compare la respuesta con la gráfica. Repita el proceso para el tipo B.\n",
    "\n",
    "d ¿Los datos presentan suficiente evidencia para indicar una diferencia en los porcentajes de crecimiento para los dos tipos de bacteria?"
   ]
  },
  {
   "cell_type": "code",
   "execution_count": 160,
   "metadata": {},
   "outputs": [
    {
     "name": "stdout",
     "output_type": "stream",
     "text": [
      "Coeficientes estimados (beta_hat):\n",
      "[9.34 2.46 0.6  0.41]\n",
      "\n",
      "Varianza de los coeficientes:\n",
      "[0.02436667 0.04873333 0.01218333 0.02436667]\n"
     ]
    }
   ],
   "source": [
    "import numpy as np\n",
    "import pandas as pd\n",
    "\n",
    "# Datos\n",
    "y = np.array([8.0, 9.0, 9.1, 10.2, 10.4, 10.0, 10.3, 12.2, 12.6, 13.9])  # Vector de observaciones\n",
    "x2 = np.array([-2, -1, 0, 1, 2, -2, -1, 0, 1, 2])  # Tiempo codificado\n",
    "x1 = np.array([0, 0, 0, 0, 0, 1, 1, 1, 1, 1])  # Indicador para Bacteria B\n",
    "x1_x2 = x1 * x2  # Interacción entre x1 y x2\n",
    "\n",
    "# Matriz de diseño\n",
    "X = np.column_stack((np.ones(len(y)), x1, x2, x1_x2))  # Incluye término constante\n",
    "Y = y.reshape(-1, 1)  # Vector columna de observaciones\n",
    "\n",
    "# Cálculo de beta_hat (estimadores de los coeficientes)\n",
    "X_transpose = X.T\n",
    "beta_hat = np.linalg.inv(X_transpose @ X) @ X_transpose @ Y\n",
    "\n",
    "# Cálculo de errores estándar\n",
    "y_pred = X @ beta_hat  # Predicciones\n",
    "residuals = Y - y_pred\n",
    "n, p = X.shape\n",
    "sigma_squared = (residuals.T @ residuals) / (n - p)\n",
    "var_beta_hat = sigma_squared * np.linalg.inv(X_transpose @ X)\n",
    "\n",
    "# Imprimimos resultados\n",
    "print(\"Coeficientes estimados (beta_hat):\")\n",
    "print(beta_hat.flatten())\n",
    "\n",
    "print(\"\\nVarianza de los coeficientes:\")\n",
    "print(np.diag(var_beta_hat).flatten())\n",
    "\n",
    "# Parámetros estimados:\n",
    "beta_0, beta_1, beta_2, beta_3 = beta_hat.flatten()\n"
   ]
  },
  {
   "cell_type": "code",
   "execution_count": 164,
   "metadata": {},
   "outputs": [
    {
     "data": {
      "image/png": "[encoded data removed]",
      "text/plain": [
       "<Figure size 800x600 with 1 Axes>"
      ]
     },
     "metadata": {},
     "output_type": "display_data"
    }
   ],
   "source": [
    "import matplotlib.pyplot as plt\n",
    "\n",
    "# Valores para el tiempo\n",
    "x2_range = np.linspace(-2, 2, 100)\n",
    "\n",
    "# Rectas de crecimiento\n",
    "y_a = beta_0 + beta_2 * x2_range  # Bacteria A (x1 = 0)\n",
    "y_b = (beta_0 + beta_1) + (beta_2 + beta_3) * x2_range  # Bacteria B (x1 = 1)\n",
    "\n",
    "# Gráfica\n",
    "plt.figure(figsize=(8, 6))\n",
    "plt.scatter(x2[:5], y[:5], color='blue', label='Bacteria A (Datos)')\n",
    "plt.scatter(x2[5:], y[5:], color='red', label='Bacteria B (Datos)')\n",
    "plt.plot(x2_range, y_a, color='blue', linestyle='--', label='Recta de Bacteria A')\n",
    "plt.plot(x2_range, y_b, color='red', linestyle='--', label='Recta de Bacteria B')\n",
    "\n",
    "plt.xlabel('Tiempo codificado (x2)')\n",
    "plt.ylabel('Crecimiento (Y)')\n",
    "plt.title('Crecimiento de las bacterias A y B')\n",
    "plt.legend()\n",
    "plt.grid(True)\n",
    "plt.show()\n"
   ]
  },
  {
   "cell_type": "code",
   "execution_count": 177,
   "metadata": {},
   "outputs": [
    {
     "name": "stdout",
     "output_type": "stream",
     "text": [
      "Predicción para Bacteria A en x2 = 0: 9.34\n",
      "El valor para Bacteria A en x2 = 0: 9.1\n",
      "Predicción para Bacteria B en x2 = 0: 11.8\n",
      "El valor para Bacteria B en x2 = 0: 12.2\n"
     ]
    },
    {
     "data": {
      "text/plain": [
       "<matplotlib.legend.Legend at 0x7fce6a8bb010>"
      ]
     },
     "execution_count": 177,
     "metadata": {},
     "output_type": "execute_result"
    },
    {
     "data": {
      "image/png": "[encoded data removed]",
      "text/plain": [
       "<Figure size 640x480 with 1 Axes>"
      ]
     },
     "metadata": {},
     "output_type": "display_data"
    }
   ],
   "source": [
    "# Predicción para Bacteria A (x1 = 0, x2 = 0)\n",
    "y_pred_a = beta_0\n",
    "\n",
    "# Predicción para Bacteria B (x1 = 1, x2 = 0)\n",
    "y_pred_b = beta_0 + beta_1\n",
    "\n",
    "print(\"Predicción para Bacteria A en x2 = 0:\", y_pred_a)\n",
    "print(\"El valor para Bacteria A en x2 = 0:\", y[2])\n",
    "print(\"Predicción para Bacteria B en x2 = 0:\", y_pred_b)\n",
    "print(\"El valor para Bacteria B en x2 = 0:\", y[7])\n",
    "\n",
    "plt.scatter(0, y_pred_a, color='blue', label='Bacteria A (Predicción)')\n",
    "plt.scatter(0, y[2], color='red', label='Bacteria A (Datos)')\n",
    "plt.scatter(0, y_pred_b, color='green', label='Bacteria B (Predicción)')\n",
    "plt.scatter(0, y[7], color='orange', label='Bacteria B (Datos)')\n",
    "plt.legend()"
   ]
  },
  {
   "cell_type": "code",
   "execution_count": 1,
   "metadata": {},
   "outputs": [
    {
     "name": "stdout",
     "output_type": "stream",
     "text": [
      "Estimación de beta: [9.34 2.46 0.6  0.41]\n",
      "Varianza de beta: \n",
      "[[ 0.02436667 -0.02436667  0.          0.        ]\n",
      " [-0.02436667  0.04873333  0.          0.        ]\n",
      " [ 0.          0.          0.01218333 -0.01218333]\n",
      " [ 0.          0.         -0.01218333  0.02436667]]\n",
      "t-stat: 2.6266\n",
      "t-crit: 2.4469\n",
      "p-value: 0.0392\n",
      "Se rechaza la hipótesis nula: el parámetro beta3 es significativo, por lo que hay una diferencia en el crecimiento de las bacterias\n"
     ]
    }
   ],
   "source": [
    "import numpy as np\n",
    "from scipy.stats import t\n",
    "\n",
    "# Datos\n",
    "y = np.array([8.0, 9.0, 9.1, 10.2, 10.4, 10.0, 10.3, 12.2, 12.6, 13.9])  # Vector de observaciones\n",
    "x2 = np.array([-2, -1, 0, 1, 2, -2, -1, 0, 1, 2])  # Tiempo codificado\n",
    "x1 = np.array([0, 0, 0, 0, 0, 1, 1, 1, 1, 1])  # Indicador para Bacteria B\n",
    "x1_x2 = x1 * x2  # Interacción entre x1 y x2\n",
    "\n",
    "# Matriz de diseño\n",
    "X = np.column_stack((np.ones(len(y)), x1, x2, x1_x2))  # Incluye término constante\n",
    "\n",
    "# Estimación de beta\n",
    "X_transpose = X.T\n",
    "beta_hat = np.linalg.inv(X_transpose @ X) @ X_transpose @ y\n",
    "\n",
    "# Residuales y estimación de sigma^2\n",
    "y_hat = X @ beta_hat\n",
    "residuals = y - y_hat\n",
    "sigma_squared = np.sum(residuals**2) / (len(y) - X.shape[1])\n",
    "\n",
    "# Matriz de varianza de beta\n",
    "var_beta = sigma_squared * np.linalg.inv(X_transpose @ X)\n",
    "\n",
    "# Vector a para probar si beta3 es 0\n",
    "a = np.array([0, 0, 0, 1])  # Selecciona el coeficiente de interacción x1_x2\n",
    "\n",
    "# Cálculo del estadístico t\n",
    "numerador = a.T @ beta_hat\n",
    "denominador = np.sqrt(a.T @ var_beta @ a)\n",
    "t_stat = numerador / denominador\n",
    "\n",
    "# Grados de libertad y valor crítico\n",
    "df = len(y) - X.shape[1]\n",
    "alpha = 0.05\n",
    "t_crit = t.ppf(1 - alpha / 2, df)  # Nivel de confianza del 95%\n",
    "\n",
    "# Valor p\n",
    "p_value = 2 * (1 - t.cdf(abs(t_stat), df=df))\n",
    "\n",
    "# Resultados\n",
    "print(f\"Estimación de beta: {beta_hat}\")\n",
    "print(f\"Varianza de beta: \\n{var_beta}\")\n",
    "print(f\"t-stat: {t_stat:.4f}\")\n",
    "print(f\"t-crit: {t_crit:.4f}\")\n",
    "print(f\"p-value: {p_value:.4f}\")\n",
    "\n",
    "# Interpretación\n",
    "if abs(t_stat) > t_crit:\n",
    "    print(\"Se rechaza la hipótesis nula: el parámetro beta3 es significativo, por lo que hay una diferencia en el crecimiento de las bacterias\")\n",
    "else:\n",
    "    print(\"No se rechaza la hipótesis nula: el parámetro beta3 no es significativo, por lo que, no podemos afirmar una diferencia en el crecimiento de las bacterias\")\n"
   ]
  },
  {
   "cell_type": "markdown",
   "metadata": {
    "id": "UMPpsFF7maAF"
   },
   "source": [
    "# Problema 12:\n",
    "\n",
    "Supongamos que deseas analizar la diferencia en las calificaciones obtenidas por tres grupos de estudiantes en un examen de matemáticas. Los grupos son: \"Grupo A\", \"Grupo B\" y \"Grupo C\". Tienes los datos de las calificaciones obtenidas por cada estudiante en un archivo CSV llamado \"calificaciones.csv\". \n",
    "\n",
    "Haz una prueba Anova para ver si hay diferencia en calificaciones de los tres grupos."
   ]
  },
  {
   "cell_type": "code",
   "execution_count": 25,
   "metadata": {},
   "outputs": [
    {
     "data": {
      "text/html": [
       "<div>\n",
       "<style scoped>\n",
       "    .dataframe tbody tr th:only-of-type {\n",
       "        vertical-align: middle;\n",
       "    }\n",
       "\n",
       "    .dataframe tbody tr th {\n",
       "        vertical-align: top;\n",
       "    }\n",
       "\n",
       "    .dataframe thead th {\n",
       "        text-align: right;\n",
       "    }\n",
       "</style>\n",
       "<table border=\"1\" class=\"dataframe\">\n",
       "  <thead>\n",
       "    <tr style=\"text-align: right;\">\n",
       "      <th></th>\n",
       "      <th>Grupo</th>\n",
       "      <th>Datos</th>\n",
       "    </tr>\n",
       "  </thead>\n",
       "  <tbody>\n",
       "    <tr>\n",
       "      <th>0</th>\n",
       "      <td>Grupo A</td>\n",
       "      <td>5.8</td>\n",
       "    </tr>\n",
       "    <tr>\n",
       "      <th>1</th>\n",
       "      <td>Grupo A</td>\n",
       "      <td>3.1</td>\n",
       "    </tr>\n",
       "    <tr>\n",
       "      <th>2</th>\n",
       "      <td>Grupo A</td>\n",
       "      <td>7.2</td>\n",
       "    </tr>\n",
       "    <tr>\n",
       "      <th>3</th>\n",
       "      <td>Grupo A</td>\n",
       "      <td>2.6</td>\n",
       "    </tr>\n",
       "    <tr>\n",
       "      <th>4</th>\n",
       "      <td>Grupo A</td>\n",
       "      <td>6.7</td>\n",
       "    </tr>\n",
       "    <tr>\n",
       "      <th>5</th>\n",
       "      <td>Grupo A</td>\n",
       "      <td>4.5</td>\n",
       "    </tr>\n",
       "    <tr>\n",
       "      <th>6</th>\n",
       "      <td>Grupo B</td>\n",
       "      <td>1.9</td>\n",
       "    </tr>\n",
       "    <tr>\n",
       "      <th>7</th>\n",
       "      <td>Grupo B</td>\n",
       "      <td>8.5</td>\n",
       "    </tr>\n",
       "    <tr>\n",
       "      <th>8</th>\n",
       "      <td>Grupo B</td>\n",
       "      <td>4.3</td>\n",
       "    </tr>\n",
       "    <tr>\n",
       "      <th>9</th>\n",
       "      <td>Grupo B</td>\n",
       "      <td>6.8</td>\n",
       "    </tr>\n",
       "    <tr>\n",
       "      <th>10</th>\n",
       "      <td>Grupo B</td>\n",
       "      <td>2.1</td>\n",
       "    </tr>\n",
       "    <tr>\n",
       "      <th>11</th>\n",
       "      <td>Grupo B</td>\n",
       "      <td>7.4</td>\n",
       "    </tr>\n",
       "  </tbody>\n",
       "</table>\n",
       "</div>"
      ],
      "text/plain": [
       "      Grupo  Datos\n",
       "0   Grupo A    5.8\n",
       "1   Grupo A    3.1\n",
       "2   Grupo A    7.2\n",
       "3   Grupo A    2.6\n",
       "4   Grupo A    6.7\n",
       "5   Grupo A    4.5\n",
       "6   Grupo B    1.9\n",
       "7   Grupo B    8.5\n",
       "8   Grupo B    4.3\n",
       "9   Grupo B    6.8\n",
       "10  Grupo B    2.1\n",
       "11  Grupo B    7.4"
      ]
     },
     "execution_count": 25,
     "metadata": {},
     "output_type": "execute_result"
    }
   ],
   "source": [
    "import pandas as pd\n",
    "x=pd.read_csv(\"datos.csv\")\n",
    "x"
   ]
  },
  {
   "cell_type": "code",
   "execution_count": 26,
   "metadata": {},
   "outputs": [
    {
     "name": "stdout",
     "output_type": "stream",
     "text": [
      "Estadístico F: 0.017511360676141122\n",
      "Valor p: 0.8973476766572029\n",
      "No se encontró una diferencia estadísticamente significativa entre los grupos.\n"
     ]
    }
   ],
   "source": [
    "import pandas as pd\n",
    "from scipy.stats import f_oneway\n",
    "x=pd.read_csv(\"datos.csv\")\n",
    "# Separar las calificaciones por grupo\n",
    "grupo_a = x[x[\"Grupo\"] == \"Grupo A\"][\"Datos\"]\n",
    "grupo_b = x[x[\"Grupo\"] == \"Grupo B\"][\"Datos\"]\n",
    "stat, p_value = f_oneway(grupo_a, grupo_b)\n",
    "print(f\"Estadístico F: {stat}\")\n",
    "print(f\"Valor p: {p_value}\")\n",
    "\n",
    "# Interpretar el resultado\n",
    "alpha = 0.05\n",
    "if p_value < alpha:\n",
    "    print(\"Existe una diferencia estadísticamente significativa entre los grupos.\")\n",
    "else:\n",
    "    print(\"No se encontró una diferencia estadísticamente significativa entre los grupos.\")"
   ]
  },
  {
   "cell_type": "markdown",
   "metadata": {
    "id": "6Kzl2eSnnQQK"
   },
   "source": [
    "# Problema 13:\n",
    "\n",
    "Supongamos que tienes dos grupos de datos: \"Grupo A\" y \"Grupo B\", y deseas determinar si hay una diferencia significativa entre las medianas de ambos grupos. No sabes si los datos provienene de distribución normal.\n",
    "\n",
    "a) Has una prueba gráfica y una prueba de hipótesis para saber si los datos tienen una distribución normal para ambos grupos.\n",
    "\n",
    "b) Emplea estadística no paramétrica para probar si hay diferencia significativa en la mediana entre ambos grupos.\n",
    "\n",
    "Los datos están en el archivo datos.csv"
   ]
  },
  {
   "cell_type": "code",
   "execution_count": 27,
   "metadata": {},
   "outputs": [],
   "source": [
    "import pandas as pd\n",
    "x=pd.read_csv(\"datos.csv\")\n",
    "grupo_a = x[x[\"Grupo\"] == \"Grupo A\"][\"Datos\"]\n",
    "grupo_b = x[x[\"Grupo\"] == \"Grupo B\"][\"Datos\"]\n"
   ]
  },
  {
   "cell_type": "code",
   "execution_count": 31,
   "metadata": {},
   "outputs": [
    {
     "data": {
      "image/png": "[encoded data removed]",
      "text/plain": [
       "<Figure size 1200x800 with 4 Axes>"
      ]
     },
     "metadata": {},
     "output_type": "display_data"
    }
   ],
   "source": [
    "import seaborn as sns\n",
    "import matplotlib.pyplot as plt\n",
    "import scipy.stats as stats\n",
    "\n",
    "# a) Pruebas de normalidad\n",
    "# 1. Prueba gráfica\n",
    "fig, axes = plt.subplots(2, 2, figsize=(12, 8))\n",
    "\n",
    "sns.histplot(grupo_a, kde=True, ax=axes[0, 0], color=\"blue\").set(title=\"Histograma Grupo A\")\n",
    "sns.histplot(grupo_b, kde=True, ax=axes[0, 1], color=\"green\").set(title=\"Histograma Grupo B\")\n",
    "\n",
    "stats.probplot(grupo_a, dist=\"norm\", plot=axes[1, 0])\n",
    "axes[1, 0].set_title(\"Q-Q Plot Grupo A\")\n",
    "\n",
    "stats.probplot(grupo_b, dist=\"norm\", plot=axes[1, 1])\n",
    "axes[1, 1].set_title(\"Q-Q Plot Grupo B\")\n",
    "\n",
    "plt.tight_layout()\n",
    "plt.show()"
   ]
  },
  {
   "cell_type": "markdown",
   "metadata": {},
   "source": [
    "Prueba de Shapiro-Wilk, que evalúa si los datos siguen una distribución normal."
   ]
  },
  {
   "cell_type": "code",
   "execution_count": 32,
   "metadata": {},
   "outputs": [
    {
     "name": "stdout",
     "output_type": "stream",
     "text": [
      "Prueba de Shapiro-Wilk:\n",
      "Grupo A: Estadístico = 0.9267435669898987, Valor p = 0.555199146270752\n",
      "Grupo B: Estadístico = 0.8947597146034241, Valor p = 0.34388166666030884\n"
     ]
    }
   ],
   "source": [
    "# 2. Prueba de Shapiro-Wilk\n",
    "stat_a, p_value_a = stats.shapiro(grupo_a)\n",
    "stat_b, p_value_b = stats.shapiro(grupo_b)\n",
    "\n",
    "print(\"Prueba de Shapiro-Wilk:\")\n",
    "print(f\"Grupo A: Estadístico = {stat_a}, Valor p = {p_value_a}\")\n",
    "print(f\"Grupo B: Estadístico = {stat_b}, Valor p = {p_value_b}\")"
   ]
  },
  {
   "cell_type": "code",
   "execution_count": 33,
   "metadata": {},
   "outputs": [
    {
     "name": "stdout",
     "output_type": "stream",
     "text": [
      "El Grupo A sigue una distribución normal.\n",
      "El Grupo B sigue una distribución normal.\n"
     ]
    }
   ],
   "source": [
    "alpha = 0.05\n",
    "if p_value_a < alpha:\n",
    "    print(\"El Grupo A no sigue una distribución normal.\")\n",
    "else:\n",
    "    print(\"El Grupo A sigue una distribución normal.\")\n",
    "\n",
    "if p_value_b < alpha:\n",
    "    print(\"El Grupo B no sigue una distribución normal.\")\n",
    "else:\n",
    "    print(\"El Grupo B sigue una distribución normal.\")"
   ]
  },
  {
   "cell_type": "markdown",
   "metadata": {},
   "source": [
    "Usaremos la prueba Mann-Whitney U, la cual es no paramétrica, que compara las medianas de dos grupos independientes."
   ]
  },
  {
   "cell_type": "code",
   "execution_count": 34,
   "metadata": {},
   "outputs": [
    {
     "name": "stdout",
     "output_type": "stream",
     "text": [
      "\n",
      "Prueba de Mann-Whitney U:\n",
      "Estadístico U = 17.0, Valor p = 0.9372294372294373\n",
      "No hay una diferencia significativa en la mediana entre los grupos.\n"
     ]
    }
   ],
   "source": [
    "# b) Prueba de Mann-Whitney U\n",
    "stat, p_value = stats.mannwhitneyu(grupo_a, grupo_b, alternative=\"two-sided\")\n",
    "alpha = 0.05\n",
    "print(\"\\nPrueba de Mann-Whitney U:\")\n",
    "print(f\"Estadístico U = {stat}, Valor p = {p_value}\")\n",
    "\n",
    "if p_value < alpha:\n",
    "    print(\"Existe una diferencia significativa en la mediana entre los grupos.\")\n",
    "else:\n",
    "    print(\"No hay una diferencia significativa en la mediana entre los grupos.\")"
   ]
  }
 ],
 "metadata": {
  "colab": {
   "authorship_tag": "ABX9TyO0d4rZx/gQLxR5+ifoRDEq",
   "provenance": []
  },
  "kernelspec": {
   "display_name": "Python 3 (ipykernel)",
   "language": "python",
   "name": "python3"
  },
  "language_info": {
   "codemirror_mode": {
    "name": "ipython",
    "version": 3
   },
   "file_extension": ".py",
   "mimetype": "text/x-python",
   "name": "python",
   "nbconvert_exporter": "python",
   "pygments_lexer": "ipython3",
   "version": "3.11.6"
  }
 },
 "nbformat": 4,
 "nbformat_minor": 4
}
